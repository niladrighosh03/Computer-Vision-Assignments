{
 "cells": [
  {
   "cell_type": "code",
   "execution_count": 1,
   "id": "a438f074",
   "metadata": {},
   "outputs": [],
   "source": [
    "import cv2\n",
    "import numpy as np\n",
    "import matplotlib.pyplot as plt\n",
    "import math\n",
    "import copy\n",
    "from tqdm import *"
   ]
  },
  {
   "cell_type": "code",
   "execution_count": 2,
   "id": "98a3cb89",
   "metadata": {},
   "outputs": [],
   "source": [
    "def preprocessing(img):\n",
    "    gray = cv2.cvtColor(img, cv2.COLOR_BGR2GRAY)\n",
    "    processed_img = cv2.GaussianBlur(gray, (15,15), 0)\n",
    "    return processed_img\n",
    "\n",
    "#Function to find features in the two imagess\n",
    "def feature_detection(img1, img2):\n",
    "    processed_img1, processed_img2 = preprocessing(img1), preprocessing(img2)\n",
    "    sift = cv2.SIFT_create()\n",
    "    kp1, desc1 = sift.detectAndCompute(processed_img1, None)\n",
    "    kp2, desc2 = sift.detectAndCompute(processed_img2, None)\n",
    "    bf = cv2.BFMatcher()\n",
    "    matches = bf.knnMatch(desc1, desc2, k=2)\n",
    "    \n",
    "    #Extracting good matches\n",
    "    good = []\n",
    "    for m, n in matches:\n",
    "        if m.distance < 0.2*n.distance:\n",
    "            good.append([m])\n",
    "    \n",
    "    left_pts  = np.float32([kp1[m[0].queryIdx].pt for m in good])\n",
    "    right_pts  = np.float32([kp2[m[0].trainIdx].pt for m in good])\n",
    "    return left_pts, right_pts\n"
   ]
  },
  {
   "cell_type": "code",
   "execution_count": 3,
   "id": "51ad4cf3",
   "metadata": {},
   "outputs": [],
   "source": [
    "def fundamental_matrix(left_pts, right_pts):\n",
    "    A = []\n",
    "    \n",
    "    for i in range(8):\n",
    "        src_x, src_y  = left_pts[i]\n",
    "        dst_x, dst_y = right_pts[i]\n",
    "        A_row = np.asarray([dst_x*src_x, dst_x*src_y, dst_x, dst_y*src_x, dst_y*src_y, dst_y, src_x, src_y, 1])\n",
    "        A.append(A_row)\n",
    "        \n",
    "    A = np.asarray(A)\n",
    "    U, S, V = np.linalg.svd(A)\n",
    "    F = np.reshape(V[-1, :], (3, 3))\n",
    "    u, s, vt = np.linalg.svd(F)\n",
    "    s = np.diag(s)\n",
    "    s[2, 2] = 0\n",
    "    F = u @ (s @ vt)\n",
    "    F = F / F[-1,-1]\n",
    "    F = (abs(F) > (10**(-3))) * F\n",
    "    return F\n",
    "\n",
    "#Ransac function to find the best Fundamental Matrix that satisfies the epipolar constraint\n",
    "def ransac(src_pts, dst_pts, iterations, threshold):\n",
    "    number_of_points = len(src_pts)\n",
    "    max_inlier_count = 0\n",
    "    \n",
    "    for i in range(iterations):\n",
    "        inlier = 0\n",
    "        random_indices = np.random.choice(number_of_points, size = 8, replace=False)\n",
    "        random_src_pts = src_pts[random_indices, :]\n",
    "        random_dst_pts = dst_pts[random_indices, :]\n",
    "        \n",
    "        F = fundamental_matrix(random_src_pts, random_dst_pts)\n",
    "\n",
    "        for i in range(number_of_points):\n",
    "            a, b = dst_pts[i], src_pts[i]\n",
    "            a, b = np.append(a, 1).reshape((3, 1)), np.append(b, 1).reshape((3, 1))\n",
    "            c = (a.T @ F) @ b\n",
    "            \n",
    "            if abs(c) <= threshold:\n",
    "                inlier+=1\n",
    "            \n",
    "        if inlier > max_inlier_count:\n",
    "            max_inlier_count = inlier\n",
    "            best_F = F          \n",
    "    return best_F"
   ]
  },
  {
   "cell_type": "code",
   "execution_count": null,
   "id": "b659799a",
   "metadata": {},
   "outputs": [],
   "source": []
  }
 ],
 "metadata": {
  "kernelspec": {
   "display_name": "Python 3",
   "language": "python",
   "name": "python3"
  },
  "language_info": {
   "codemirror_mode": {
    "name": "ipython",
    "version": 3
   },
   "file_extension": ".py",
   "mimetype": "text/x-python",
   "name": "python",
   "nbconvert_exporter": "python",
   "pygments_lexer": "ipython3",
   "version": "3.11.1"
  }
 },
 "nbformat": 4,
 "nbformat_minor": 5
}
