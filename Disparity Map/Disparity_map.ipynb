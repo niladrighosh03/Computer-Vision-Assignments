{
 "cells": [
  {
   "cell_type": "code",
   "execution_count": 1,
   "id": "a438f074",
   "metadata": {},
   "outputs": [],
   "source": [
    "import cv2\n",
    "import numpy as np\n",
    "import matplotlib.pyplot as plt\n",
    "import math\n",
    "import copy\n",
    "from tqdm import *"
   ]
  },
  {
   "cell_type": "code",
   "execution_count": null,
   "id": "98a3cb89",
   "metadata": {},
   "outputs": [],
   "source": [
    "def preprocessing(img):\n",
    "    gray = cv2.cvtColor(img, cv2.COLOR_BGR2GRAY)\n",
    "    processed_img = cv2.GaussianBlur(gray, (15,15), 0)\n",
    "    return processed_img\n",
    "\n",
    "#Function to find features in the two imagess\n",
    "def feature_detection(img1, img2):\n",
    "    processed_img1, processed_img2 = preprocessing(img1), preprocessing(img2)\n",
    "    sift = cv2.SIFT_create()\n",
    "    kp1, desc1 = sift.detectAndCompute(processed_img1, None)\n",
    "    kp2, desc2 = sift.detectAndCompute(processed_img2, None)\n",
    "    bf = cv2.BFMatcher()\n",
    "    matches = bf.knnMatch(desc1, desc2, k=2)\n",
    "    \n",
    "    #Extracting good matches\n",
    "    good = []\n",
    "    for m, n in matches:\n",
    "        if m.distance < 0.2*n.distance:\n",
    "            good.append([m])\n",
    "    \n",
    "    left_pts  = np.float32([kp1[m[0].queryIdx].pt for m in good])\n",
    "    right_pts  = np.float32([kp2[m[0].trainIdx].pt for m in good])\n",
    "    return left_pts, right_pts\n"
   ]
  }
 ],
 "metadata": {
  "kernelspec": {
   "display_name": "Python 3",
   "language": "python",
   "name": "python3"
  },
  "language_info": {
   "codemirror_mode": {
    "name": "ipython",
    "version": 3
   },
   "file_extension": ".py",
   "mimetype": "text/x-python",
   "name": "python",
   "nbconvert_exporter": "python",
   "pygments_lexer": "ipython3",
   "version": "3.11.1"
  }
 },
 "nbformat": 4,
 "nbformat_minor": 5
}
